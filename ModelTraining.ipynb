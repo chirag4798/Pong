{
 "cells": [
  {
   "cell_type": "code",
   "execution_count": 2,
   "metadata": {},
   "outputs": [],
   "source": [
    "import pandas as pd\n",
    "import matplotlib.pyplot as plt\n",
    "\n",
    "from sklearn.model_selection import train_test_split\n",
    "from sklearn.model_selection import GridSearchCV\n",
    "from sklearn.tree import DecisionTreeRegressor\n",
    "from sklearn.metrics import r2_score"
   ]
  },
  {
   "cell_type": "code",
   "execution_count": 3,
   "metadata": {},
   "outputs": [
    {
     "name": "stdout",
     "output_type": "stream",
     "text": [
      "(190052, 5)\n"
     ]
    }
   ],
   "source": [
    "df = pd.read_csv('game.csv')\n",
    "print(df.shape)"
   ]
  },
  {
   "cell_type": "code",
   "execution_count": 4,
   "metadata": {},
   "outputs": [
    {
     "name": "stdout",
     "output_type": "stream",
     "text": [
      "(161039, 5)\n"
     ]
    },
    {
     "data": {
      "text/html": [
       "<div>\n",
       "<style scoped>\n",
       "    .dataframe tbody tr th:only-of-type {\n",
       "        vertical-align: middle;\n",
       "    }\n",
       "\n",
       "    .dataframe tbody tr th {\n",
       "        vertical-align: top;\n",
       "    }\n",
       "\n",
       "    .dataframe thead th {\n",
       "        text-align: right;\n",
       "    }\n",
       "</style>\n",
       "<table border=\"1\" class=\"dataframe\">\n",
       "  <thead>\n",
       "    <tr style=\"text-align: right;\">\n",
       "      <th></th>\n",
       "      <th>ball_x</th>\n",
       "      <th>ball_y</th>\n",
       "      <th>ball_dx</th>\n",
       "      <th>ball_dy</th>\n",
       "      <th>paddle_y</th>\n",
       "    </tr>\n",
       "  </thead>\n",
       "  <tbody>\n",
       "    <tr>\n",
       "      <th>0</th>\n",
       "      <td>0.5</td>\n",
       "      <td>0.5</td>\n",
       "      <td>0.5</td>\n",
       "      <td>0.5</td>\n",
       "      <td>0.0</td>\n",
       "    </tr>\n",
       "    <tr>\n",
       "      <th>1</th>\n",
       "      <td>1.0</td>\n",
       "      <td>1.0</td>\n",
       "      <td>0.5</td>\n",
       "      <td>0.5</td>\n",
       "      <td>0.0</td>\n",
       "    </tr>\n",
       "    <tr>\n",
       "      <th>2</th>\n",
       "      <td>1.5</td>\n",
       "      <td>1.5</td>\n",
       "      <td>0.5</td>\n",
       "      <td>0.5</td>\n",
       "      <td>0.0</td>\n",
       "    </tr>\n",
       "    <tr>\n",
       "      <th>3</th>\n",
       "      <td>2.0</td>\n",
       "      <td>2.0</td>\n",
       "      <td>0.5</td>\n",
       "      <td>0.5</td>\n",
       "      <td>0.0</td>\n",
       "    </tr>\n",
       "    <tr>\n",
       "      <th>4</th>\n",
       "      <td>2.5</td>\n",
       "      <td>2.5</td>\n",
       "      <td>0.5</td>\n",
       "      <td>0.5</td>\n",
       "      <td>0.0</td>\n",
       "    </tr>\n",
       "  </tbody>\n",
       "</table>\n",
       "</div>"
      ],
      "text/plain": [
       "   ball_x  ball_y  ball_dx  ball_dy  paddle_y\n",
       "0     0.5     0.5      0.5      0.5       0.0\n",
       "1     1.0     1.0      0.5      0.5       0.0\n",
       "2     1.5     1.5      0.5      0.5       0.0\n",
       "3     2.0     2.0      0.5      0.5       0.0\n",
       "4     2.5     2.5      0.5      0.5       0.0"
      ]
     },
     "execution_count": 4,
     "metadata": {},
     "output_type": "execute_result"
    }
   ],
   "source": [
    "df = df.drop_duplicates(keep='first')\n",
    "print(df.shape)\n",
    "df.head()"
   ]
  },
  {
   "cell_type": "code",
   "execution_count": 5,
   "metadata": {},
   "outputs": [
    {
     "name": "stdout",
     "output_type": "stream",
     "text": [
      "(161039, 4)\n",
      "(161039,)\n"
     ]
    }
   ],
   "source": [
    "X = df.drop(columns=['paddle_y'], axis=1)\n",
    "y = df['paddle_y']\n",
    "\n",
    "print(X.shape)\n",
    "print(y.shape)"
   ]
  },
  {
   "cell_type": "code",
   "execution_count": 6,
   "metadata": {},
   "outputs": [],
   "source": [
    "X_train, X_test, y_train, y_test = train_test_split(X, y, test_size=0.3, random_state=42)"
   ]
  },
  {
   "cell_type": "code",
   "execution_count": 7,
   "metadata": {
    "scrolled": true
   },
   "outputs": [
    {
     "name": "stdout",
     "output_type": "stream",
     "text": [
      "Fitting 10 folds for each of 9 candidates, totalling 90 fits\n",
      "[CV] max_depth=1 .....................................................\n",
      "[CV] ...................................... max_depth=1, total=   0.1s\n",
      "[CV] max_depth=1 .....................................................\n",
      "[CV] ...................................... max_depth=1, total=   0.0s\n",
      "[CV] max_depth=1 .....................................................\n"
     ]
    },
    {
     "name": "stderr",
     "output_type": "stream",
     "text": [
      "[Parallel(n_jobs=1)]: Using backend SequentialBackend with 1 concurrent workers.\n",
      "[Parallel(n_jobs=1)]: Done   1 out of   1 | elapsed:    0.0s remaining:    0.0s\n"
     ]
    },
    {
     "name": "stdout",
     "output_type": "stream",
     "text": [
      "[CV] ...................................... max_depth=1, total=   0.0s\n",
      "[CV] max_depth=1 .....................................................\n",
      "[CV] ...................................... max_depth=1, total=   0.0s\n",
      "[CV] max_depth=1 .....................................................\n",
      "[CV] ...................................... max_depth=1, total=   0.0s\n",
      "[CV] max_depth=1 .....................................................\n",
      "[CV] ...................................... max_depth=1, total=   0.0s\n",
      "[CV] max_depth=1 .....................................................\n",
      "[CV] ...................................... max_depth=1, total=   0.0s\n",
      "[CV] max_depth=1 .....................................................\n",
      "[CV] ...................................... max_depth=1, total=   0.0s\n",
      "[CV] max_depth=1 .....................................................\n",
      "[CV] ...................................... max_depth=1, total=   0.0s\n",
      "[CV] max_depth=1 .....................................................\n",
      "[CV] ...................................... max_depth=1, total=   0.0s\n",
      "[CV] max_depth=2 .....................................................\n",
      "[CV] ...................................... max_depth=2, total=   0.1s\n",
      "[CV] max_depth=2 .....................................................\n",
      "[CV] ...................................... max_depth=2, total=   0.0s\n",
      "[CV] max_depth=2 .....................................................\n",
      "[CV] ...................................... max_depth=2, total=   0.0s\n",
      "[CV] max_depth=2 .....................................................\n",
      "[CV] ...................................... max_depth=2, total=   0.0s\n",
      "[CV] max_depth=2 .....................................................\n",
      "[CV] ...................................... max_depth=2, total=   0.0s\n",
      "[CV] max_depth=2 .....................................................\n",
      "[CV] ...................................... max_depth=2, total=   0.0s\n",
      "[CV] max_depth=2 .....................................................\n",
      "[CV] ...................................... max_depth=2, total=   0.0s\n",
      "[CV] max_depth=2 .....................................................\n",
      "[CV] ...................................... max_depth=2, total=   0.0s\n",
      "[CV] max_depth=2 .....................................................\n",
      "[CV] ...................................... max_depth=2, total=   0.0s\n",
      "[CV] max_depth=2 .....................................................\n",
      "[CV] ...................................... max_depth=2, total=   0.0s\n",
      "[CV] max_depth=3 .....................................................\n",
      "[CV] ...................................... max_depth=3, total=   0.1s\n",
      "[CV] max_depth=3 .....................................................\n",
      "[CV] ...................................... max_depth=3, total=   0.1s\n",
      "[CV] max_depth=3 .....................................................\n",
      "[CV] ...................................... max_depth=3, total=   0.1s\n",
      "[CV] max_depth=3 .....................................................\n",
      "[CV] ...................................... max_depth=3, total=   0.1s\n",
      "[CV] max_depth=3 .....................................................\n",
      "[CV] ...................................... max_depth=3, total=   0.1s\n",
      "[CV] max_depth=3 .....................................................\n",
      "[CV] ...................................... max_depth=3, total=   0.1s\n",
      "[CV] max_depth=3 .....................................................\n",
      "[CV] ...................................... max_depth=3, total=   0.1s\n",
      "[CV] max_depth=3 .....................................................\n",
      "[CV] ...................................... max_depth=3, total=   0.1s\n",
      "[CV] max_depth=3 .....................................................\n",
      "[CV] ...................................... max_depth=3, total=   0.1s\n",
      "[CV] max_depth=3 .....................................................\n",
      "[CV] ...................................... max_depth=3, total=   0.1s\n",
      "[CV] max_depth=4 .....................................................\n",
      "[CV] ...................................... max_depth=4, total=   0.1s\n",
      "[CV] max_depth=4 .....................................................\n",
      "[CV] ...................................... max_depth=4, total=   0.1s\n",
      "[CV] max_depth=4 .....................................................\n",
      "[CV] ...................................... max_depth=4, total=   0.1s\n",
      "[CV] max_depth=4 .....................................................\n",
      "[CV] ...................................... max_depth=4, total=   0.1s\n",
      "[CV] max_depth=4 .....................................................\n",
      "[CV] ...................................... max_depth=4, total=   0.1s\n",
      "[CV] max_depth=4 .....................................................\n",
      "[CV] ...................................... max_depth=4, total=   0.1s\n",
      "[CV] max_depth=4 .....................................................\n",
      "[CV] ...................................... max_depth=4, total=   0.1s\n",
      "[CV] max_depth=4 .....................................................\n",
      "[CV] ...................................... max_depth=4, total=   0.1s\n",
      "[CV] max_depth=4 .....................................................\n",
      "[CV] ...................................... max_depth=4, total=   0.1s\n",
      "[CV] max_depth=4 .....................................................\n",
      "[CV] ...................................... max_depth=4, total=   0.1s\n",
      "[CV] max_depth=5 .....................................................\n",
      "[CV] ...................................... max_depth=5, total=   0.1s\n",
      "[CV] max_depth=5 .....................................................\n",
      "[CV] ...................................... max_depth=5, total=   0.1s\n",
      "[CV] max_depth=5 .....................................................\n",
      "[CV] ...................................... max_depth=5, total=   0.1s\n",
      "[CV] max_depth=5 .....................................................\n",
      "[CV] ...................................... max_depth=5, total=   0.1s\n",
      "[CV] max_depth=5 .....................................................\n",
      "[CV] ...................................... max_depth=5, total=   0.1s\n",
      "[CV] max_depth=5 .....................................................\n",
      "[CV] ...................................... max_depth=5, total=   0.1s\n",
      "[CV] max_depth=5 .....................................................\n",
      "[CV] ...................................... max_depth=5, total=   0.1s\n",
      "[CV] max_depth=5 .....................................................\n",
      "[CV] ...................................... max_depth=5, total=   0.1s\n",
      "[CV] max_depth=5 .....................................................\n",
      "[CV] ...................................... max_depth=5, total=   0.1s\n",
      "[CV] max_depth=5 .....................................................\n",
      "[CV] ...................................... max_depth=5, total=   0.1s\n",
      "[CV] max_depth=10 ....................................................\n",
      "[CV] ..................................... max_depth=10, total=   0.2s\n",
      "[CV] max_depth=10 ....................................................\n",
      "[CV] ..................................... max_depth=10, total=   0.1s\n",
      "[CV] max_depth=10 ....................................................\n",
      "[CV] ..................................... max_depth=10, total=   0.2s\n",
      "[CV] max_depth=10 ....................................................\n",
      "[CV] ..................................... max_depth=10, total=   0.1s\n",
      "[CV] max_depth=10 ....................................................\n",
      "[CV] ..................................... max_depth=10, total=   0.2s\n",
      "[CV] max_depth=10 ....................................................\n",
      "[CV] ..................................... max_depth=10, total=   0.2s\n",
      "[CV] max_depth=10 ....................................................\n",
      "[CV] ..................................... max_depth=10, total=   0.2s\n",
      "[CV] max_depth=10 ....................................................\n",
      "[CV] ..................................... max_depth=10, total=   0.1s\n",
      "[CV] max_depth=10 ....................................................\n",
      "[CV] ..................................... max_depth=10, total=   0.2s\n",
      "[CV] max_depth=10 ....................................................\n",
      "[CV] ..................................... max_depth=10, total=   0.2s\n",
      "[CV] max_depth=20 ....................................................\n"
     ]
    },
    {
     "name": "stdout",
     "output_type": "stream",
     "text": [
      "[CV] ..................................... max_depth=20, total=   0.2s\n",
      "[CV] max_depth=20 ....................................................\n",
      "[CV] ..................................... max_depth=20, total=   0.2s\n",
      "[CV] max_depth=20 ....................................................\n",
      "[CV] ..................................... max_depth=20, total=   0.3s\n",
      "[CV] max_depth=20 ....................................................\n",
      "[CV] ..................................... max_depth=20, total=   0.2s\n",
      "[CV] max_depth=20 ....................................................\n",
      "[CV] ..................................... max_depth=20, total=   0.2s\n",
      "[CV] max_depth=20 ....................................................\n",
      "[CV] ..................................... max_depth=20, total=   0.2s\n",
      "[CV] max_depth=20 ....................................................\n",
      "[CV] ..................................... max_depth=20, total=   0.2s\n",
      "[CV] max_depth=20 ....................................................\n",
      "[CV] ..................................... max_depth=20, total=   0.2s\n",
      "[CV] max_depth=20 ....................................................\n",
      "[CV] ..................................... max_depth=20, total=   0.2s\n",
      "[CV] max_depth=20 ....................................................\n",
      "[CV] ..................................... max_depth=20, total=   0.2s\n",
      "[CV] max_depth=30 ....................................................\n",
      "[CV] ..................................... max_depth=30, total=   0.3s\n",
      "[CV] max_depth=30 ....................................................\n",
      "[CV] ..................................... max_depth=30, total=   0.3s\n",
      "[CV] max_depth=30 ....................................................\n",
      "[CV] ..................................... max_depth=30, total=   0.3s\n",
      "[CV] max_depth=30 ....................................................\n",
      "[CV] ..................................... max_depth=30, total=   0.3s\n",
      "[CV] max_depth=30 ....................................................\n",
      "[CV] ..................................... max_depth=30, total=   0.3s\n",
      "[CV] max_depth=30 ....................................................\n",
      "[CV] ..................................... max_depth=30, total=   0.3s\n",
      "[CV] max_depth=30 ....................................................\n",
      "[CV] ..................................... max_depth=30, total=   0.3s\n",
      "[CV] max_depth=30 ....................................................\n",
      "[CV] ..................................... max_depth=30, total=   0.3s\n",
      "[CV] max_depth=30 ....................................................\n",
      "[CV] ..................................... max_depth=30, total=   0.3s\n",
      "[CV] max_depth=30 ....................................................\n",
      "[CV] ..................................... max_depth=30, total=   0.3s\n",
      "[CV] max_depth=50 ....................................................\n",
      "[CV] ..................................... max_depth=50, total=   0.3s\n",
      "[CV] max_depth=50 ....................................................\n",
      "[CV] ..................................... max_depth=50, total=   0.3s\n",
      "[CV] max_depth=50 ....................................................\n",
      "[CV] ..................................... max_depth=50, total=   0.3s\n",
      "[CV] max_depth=50 ....................................................\n",
      "[CV] ..................................... max_depth=50, total=   0.4s\n",
      "[CV] max_depth=50 ....................................................\n",
      "[CV] ..................................... max_depth=50, total=   0.4s\n",
      "[CV] max_depth=50 ....................................................\n",
      "[CV] ..................................... max_depth=50, total=   0.3s\n",
      "[CV] max_depth=50 ....................................................\n",
      "[CV] ..................................... max_depth=50, total=   0.3s\n",
      "[CV] max_depth=50 ....................................................\n",
      "[CV] ..................................... max_depth=50, total=   0.3s\n",
      "[CV] max_depth=50 ....................................................\n",
      "[CV] ..................................... max_depth=50, total=   0.3s\n",
      "[CV] max_depth=50 ....................................................\n",
      "[CV] ..................................... max_depth=50, total=   0.3s\n"
     ]
    },
    {
     "name": "stderr",
     "output_type": "stream",
     "text": [
      "[Parallel(n_jobs=1)]: Done  90 out of  90 | elapsed:   14.1s finished\n"
     ]
    },
    {
     "data": {
      "text/plain": [
       "GridSearchCV(cv=10, estimator=DecisionTreeRegressor(),\n",
       "             param_grid={'max_depth': [1, 2, 3, 4, 5, 10, 20, 30, 50]},\n",
       "             return_train_score=True, verbose=2)"
      ]
     },
     "execution_count": 7,
     "metadata": {},
     "output_type": "execute_result"
    }
   ],
   "source": [
    "estimator = DecisionTreeRegressor()\n",
    "\n",
    "parameters = {'max_depth':[1, 2, 3, 4, 5, 10, 20, 30, 50]}\n",
    "\n",
    "grid = GridSearchCV(estimator = estimator, param_grid=parameters, cv=10, return_train_score=True, verbose=2)\n",
    "grid.fit(X_train, y_train)"
   ]
  },
  {
   "cell_type": "code",
   "execution_count": 8,
   "metadata": {},
   "outputs": [
    {
     "data": {
      "text/html": [
       "<div>\n",
       "<style scoped>\n",
       "    .dataframe tbody tr th:only-of-type {\n",
       "        vertical-align: middle;\n",
       "    }\n",
       "\n",
       "    .dataframe tbody tr th {\n",
       "        vertical-align: top;\n",
       "    }\n",
       "\n",
       "    .dataframe thead th {\n",
       "        text-align: right;\n",
       "    }\n",
       "</style>\n",
       "<table border=\"1\" class=\"dataframe\">\n",
       "  <thead>\n",
       "    <tr style=\"text-align: right;\">\n",
       "      <th></th>\n",
       "      <th>mean_fit_time</th>\n",
       "      <th>std_fit_time</th>\n",
       "      <th>mean_score_time</th>\n",
       "      <th>std_score_time</th>\n",
       "      <th>param_max_depth</th>\n",
       "      <th>params</th>\n",
       "      <th>split0_test_score</th>\n",
       "      <th>split1_test_score</th>\n",
       "      <th>split2_test_score</th>\n",
       "      <th>split3_test_score</th>\n",
       "      <th>...</th>\n",
       "      <th>split2_train_score</th>\n",
       "      <th>split3_train_score</th>\n",
       "      <th>split4_train_score</th>\n",
       "      <th>split5_train_score</th>\n",
       "      <th>split6_train_score</th>\n",
       "      <th>split7_train_score</th>\n",
       "      <th>split8_train_score</th>\n",
       "      <th>split9_train_score</th>\n",
       "      <th>mean_train_score</th>\n",
       "      <th>std_train_score</th>\n",
       "    </tr>\n",
       "  </thead>\n",
       "  <tbody>\n",
       "    <tr>\n",
       "      <th>0</th>\n",
       "      <td>0.039440</td>\n",
       "      <td>0.032319</td>\n",
       "      <td>0.002604</td>\n",
       "      <td>0.001046</td>\n",
       "      <td>1</td>\n",
       "      <td>{'max_depth': 1}</td>\n",
       "      <td>0.010970</td>\n",
       "      <td>0.011820</td>\n",
       "      <td>0.006707</td>\n",
       "      <td>0.009305</td>\n",
       "      <td>...</td>\n",
       "      <td>0.010880</td>\n",
       "      <td>0.010545</td>\n",
       "      <td>0.010362</td>\n",
       "      <td>0.010309</td>\n",
       "      <td>0.010715</td>\n",
       "      <td>0.010312</td>\n",
       "      <td>0.010554</td>\n",
       "      <td>0.010680</td>\n",
       "      <td>0.010493</td>\n",
       "      <td>0.000203</td>\n",
       "    </tr>\n",
       "    <tr>\n",
       "      <th>1</th>\n",
       "      <td>0.043789</td>\n",
       "      <td>0.003468</td>\n",
       "      <td>0.002290</td>\n",
       "      <td>0.000451</td>\n",
       "      <td>2</td>\n",
       "      <td>{'max_depth': 2}</td>\n",
       "      <td>0.180292</td>\n",
       "      <td>0.164798</td>\n",
       "      <td>0.178938</td>\n",
       "      <td>0.177566</td>\n",
       "      <td>...</td>\n",
       "      <td>0.184978</td>\n",
       "      <td>0.182402</td>\n",
       "      <td>0.185311</td>\n",
       "      <td>0.185074</td>\n",
       "      <td>0.182850</td>\n",
       "      <td>0.184046</td>\n",
       "      <td>0.183900</td>\n",
       "      <td>0.184604</td>\n",
       "      <td>0.184099</td>\n",
       "      <td>0.000928</td>\n",
       "    </tr>\n",
       "    <tr>\n",
       "      <th>2</th>\n",
       "      <td>0.058439</td>\n",
       "      <td>0.003669</td>\n",
       "      <td>0.002490</td>\n",
       "      <td>0.000493</td>\n",
       "      <td>3</td>\n",
       "      <td>{'max_depth': 3}</td>\n",
       "      <td>0.263144</td>\n",
       "      <td>0.245297</td>\n",
       "      <td>0.266001</td>\n",
       "      <td>0.258816</td>\n",
       "      <td>...</td>\n",
       "      <td>0.269095</td>\n",
       "      <td>0.264809</td>\n",
       "      <td>0.270064</td>\n",
       "      <td>0.269044</td>\n",
       "      <td>0.266633</td>\n",
       "      <td>0.269523</td>\n",
       "      <td>0.268056</td>\n",
       "      <td>0.258684</td>\n",
       "      <td>0.266184</td>\n",
       "      <td>0.003886</td>\n",
       "    </tr>\n",
       "    <tr>\n",
       "      <th>3</th>\n",
       "      <td>0.073133</td>\n",
       "      <td>0.003847</td>\n",
       "      <td>0.002474</td>\n",
       "      <td>0.000514</td>\n",
       "      <td>4</td>\n",
       "      <td>{'max_depth': 4}</td>\n",
       "      <td>0.412022</td>\n",
       "      <td>0.414824</td>\n",
       "      <td>0.429390</td>\n",
       "      <td>0.426574</td>\n",
       "      <td>...</td>\n",
       "      <td>0.422367</td>\n",
       "      <td>0.428976</td>\n",
       "      <td>0.421973</td>\n",
       "      <td>0.423246</td>\n",
       "      <td>0.422687</td>\n",
       "      <td>0.421329</td>\n",
       "      <td>0.422294</td>\n",
       "      <td>0.416539</td>\n",
       "      <td>0.422601</td>\n",
       "      <td>0.004234</td>\n",
       "    </tr>\n",
       "    <tr>\n",
       "      <th>4</th>\n",
       "      <td>0.086667</td>\n",
       "      <td>0.004286</td>\n",
       "      <td>0.002693</td>\n",
       "      <td>0.000457</td>\n",
       "      <td>5</td>\n",
       "      <td>{'max_depth': 5}</td>\n",
       "      <td>0.550832</td>\n",
       "      <td>0.547763</td>\n",
       "      <td>0.564040</td>\n",
       "      <td>0.558008</td>\n",
       "      <td>...</td>\n",
       "      <td>0.558450</td>\n",
       "      <td>0.560258</td>\n",
       "      <td>0.566230</td>\n",
       "      <td>0.543801</td>\n",
       "      <td>0.542940</td>\n",
       "      <td>0.567579</td>\n",
       "      <td>0.545081</td>\n",
       "      <td>0.559203</td>\n",
       "      <td>0.556043</td>\n",
       "      <td>0.008529</td>\n",
       "    </tr>\n",
       "  </tbody>\n",
       "</table>\n",
       "<p>5 rows × 31 columns</p>\n",
       "</div>"
      ],
      "text/plain": [
       "   mean_fit_time  std_fit_time  mean_score_time  std_score_time  \\\n",
       "0       0.039440      0.032319         0.002604        0.001046   \n",
       "1       0.043789      0.003468         0.002290        0.000451   \n",
       "2       0.058439      0.003669         0.002490        0.000493   \n",
       "3       0.073133      0.003847         0.002474        0.000514   \n",
       "4       0.086667      0.004286         0.002693        0.000457   \n",
       "\n",
       "  param_max_depth            params  split0_test_score  split1_test_score  \\\n",
       "0               1  {'max_depth': 1}           0.010970           0.011820   \n",
       "1               2  {'max_depth': 2}           0.180292           0.164798   \n",
       "2               3  {'max_depth': 3}           0.263144           0.245297   \n",
       "3               4  {'max_depth': 4}           0.412022           0.414824   \n",
       "4               5  {'max_depth': 5}           0.550832           0.547763   \n",
       "\n",
       "   split2_test_score  split3_test_score  ...  split2_train_score  \\\n",
       "0           0.006707           0.009305  ...            0.010880   \n",
       "1           0.178938           0.177566  ...            0.184978   \n",
       "2           0.266001           0.258816  ...            0.269095   \n",
       "3           0.429390           0.426574  ...            0.422367   \n",
       "4           0.564040           0.558008  ...            0.558450   \n",
       "\n",
       "   split3_train_score  split4_train_score  split5_train_score  \\\n",
       "0            0.010545            0.010362            0.010309   \n",
       "1            0.182402            0.185311            0.185074   \n",
       "2            0.264809            0.270064            0.269044   \n",
       "3            0.428976            0.421973            0.423246   \n",
       "4            0.560258            0.566230            0.543801   \n",
       "\n",
       "   split6_train_score  split7_train_score  split8_train_score  \\\n",
       "0            0.010715            0.010312            0.010554   \n",
       "1            0.182850            0.184046            0.183900   \n",
       "2            0.266633            0.269523            0.268056   \n",
       "3            0.422687            0.421329            0.422294   \n",
       "4            0.542940            0.567579            0.545081   \n",
       "\n",
       "   split9_train_score  mean_train_score  std_train_score  \n",
       "0            0.010680          0.010493         0.000203  \n",
       "1            0.184604          0.184099         0.000928  \n",
       "2            0.258684          0.266184         0.003886  \n",
       "3            0.416539          0.422601         0.004234  \n",
       "4            0.559203          0.556043         0.008529  \n",
       "\n",
       "[5 rows x 31 columns]"
      ]
     },
     "execution_count": 8,
     "metadata": {},
     "output_type": "execute_result"
    }
   ],
   "source": [
    "results = pd.DataFrame.from_dict(grid.cv_results_)\n",
    "results.head()"
   ]
  },
  {
   "cell_type": "code",
   "execution_count": 9,
   "metadata": {},
   "outputs": [
    {
     "data": {
      "text/plain": [
       "<matplotlib.legend.Legend at 0x1f96e9ac408>"
      ]
     },
     "execution_count": 9,
     "metadata": {},
     "output_type": "execute_result"
    },
    {
     "data": {
      "image/png": "[encoded data removed]",
      "text/plain": [
       "<Figure size 576x432 with 1 Axes>"
      ]
     },
     "metadata": {
      "needs_background": "light"
     },
     "output_type": "display_data"
    }
   ],
   "source": [
    "plt.figure(figsize=(8,6))\n",
    "plt.plot(results['param_max_depth'], results['mean_train_score'], color='blue', label='Train')\n",
    "plt.plot(results['param_max_depth'], results['mean_test_score'], color='red', label='CV')\n",
    "plt.grid()\n",
    "plt.legend()"
   ]
  },
  {
   "cell_type": "code",
   "execution_count": 10,
   "metadata": {},
   "outputs": [
    {
     "data": {
      "text/plain": [
       "{'max_depth': 20}"
      ]
     },
     "execution_count": 10,
     "metadata": {},
     "output_type": "execute_result"
    }
   ],
   "source": [
    "grid.best_params_"
   ]
  },
  {
   "cell_type": "code",
   "execution_count": 11,
   "metadata": {},
   "outputs": [
    {
     "data": {
      "text/plain": [
       "DecisionTreeRegressor(max_depth=20)"
      ]
     },
     "execution_count": 11,
     "metadata": {},
     "output_type": "execute_result"
    }
   ],
   "source": [
    "grid.best_estimator_"
   ]
  },
  {
   "cell_type": "code",
   "execution_count": 13,
   "metadata": {},
   "outputs": [
    {
     "name": "stdout",
     "output_type": "stream",
     "text": [
      "R2 score = 0.7992973010791035\n"
     ]
    }
   ],
   "source": [
    "predictions = grid.predict(X_test)\n",
    "print('R2 score = {}'.format(r2_score(y_test, predictions)))"
   ]
  },
  {
   "cell_type": "code",
   "execution_count": 17,
   "metadata": {},
   "outputs": [],
   "source": [
    "import pickle\n",
    "\n",
    "with open(\"model.pkl\", \"wb\") as model:\n",
    "    pickle.dump(grid.best_estimator_, model)"
   ]
  }
 ],
 "metadata": {
  "kernelspec": {
   "display_name": "Python 3",
   "language": "python",
   "name": "python3"
  },
  "language_info": {
   "codemirror_mode": {
    "name": "ipython",
    "version": 3
   },
   "file_extension": ".py",
   "mimetype": "text/x-python",
   "name": "python",
   "nbconvert_exporter": "python",
   "pygments_lexer": "ipython3",
   "version": "3.7.6"
  }
 },
 "nbformat": 4,
 "nbformat_minor": 2
}
